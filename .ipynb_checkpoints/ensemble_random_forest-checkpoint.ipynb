{
 "cells": [
  {
   "cell_type": "code",
   "execution_count": 1,
   "id": "c5359866",
   "metadata": {},
   "outputs": [],
   "source": [
    "import pandas as pd\n",
    "import numpy as np"
   ]
  },
  {
   "cell_type": "markdown",
   "id": "713a9fc6",
   "metadata": {},
   "source": [
    "# Import data"
   ]
  },
  {
   "cell_type": "code",
   "execution_count": 2,
   "id": "afae3c34",
   "metadata": {},
   "outputs": [],
   "source": [
    "data = pd.read_csv(\"data/data.txt\", sep = ',')\n",
    "gt = pd.read_excel(\"data/ground_truth.xlsx\")"
   ]
  },
  {
   "cell_type": "code",
   "execution_count": 3,
   "id": "fb8310bd",
   "metadata": {},
   "outputs": [],
   "source": [
    "features = [113, 173, 475, 489, 603]\n",
    "col = [int(i) for i in list(np.linspace(0, 150, 76))]"
   ]
  },
  {
   "cell_type": "code",
   "execution_count": 4,
   "id": "15e216b7",
   "metadata": {},
   "outputs": [],
   "source": [
    "df = data.iloc[features][data.columns[col]].T\n",
    "df = df.sort_index()"
   ]
  },
  {
   "cell_type": "code",
   "execution_count": 5,
   "id": "561a1ee4",
   "metadata": {},
   "outputs": [],
   "source": [
    "gt.columns = gt.iloc[1]\n",
    "gt = gt.iloc[2:78,1:10]\n",
    "gt = gt.sort_values(\"LESION\")"
   ]
  },
  {
   "cell_type": "code",
   "execution_count": 6,
   "id": "1ba8bb36",
   "metadata": {},
   "outputs": [
    {
     "data": {
      "text/html": [
       "<div>\n",
       "<style scoped>\n",
       "    .dataframe tbody tr th:only-of-type {\n",
       "        vertical-align: middle;\n",
       "    }\n",
       "\n",
       "    .dataframe tbody tr th {\n",
       "        vertical-align: top;\n",
       "    }\n",
       "\n",
       "    .dataframe thead th {\n",
       "        text-align: right;\n",
       "    }\n",
       "</style>\n",
       "<table border=\"1\" class=\"dataframe\">\n",
       "  <thead>\n",
       "    <tr style=\"text-align: right;\">\n",
       "      <th></th>\n",
       "      <th>113</th>\n",
       "      <th>173</th>\n",
       "      <th>475</th>\n",
       "      <th>489</th>\n",
       "      <th>603</th>\n",
       "    </tr>\n",
       "  </thead>\n",
       "  <tbody>\n",
       "    <tr>\n",
       "      <th>adenoma_1</th>\n",
       "      <td>0.037433</td>\n",
       "      <td>269.0</td>\n",
       "      <td>0.97006</td>\n",
       "      <td>92.307</td>\n",
       "      <td>0.23727</td>\n",
       "    </tr>\n",
       "    <tr>\n",
       "      <th>adenoma_10</th>\n",
       "      <td>0.034214</td>\n",
       "      <td>218.0</td>\n",
       "      <td>0.95297</td>\n",
       "      <td>108.560</td>\n",
       "      <td>0.22117</td>\n",
       "    </tr>\n",
       "    <tr>\n",
       "      <th>adenoma_11</th>\n",
       "      <td>0.033058</td>\n",
       "      <td>241.0</td>\n",
       "      <td>0.95286</td>\n",
       "      <td>82.827</td>\n",
       "      <td>0.32428</td>\n",
       "    </tr>\n",
       "    <tr>\n",
       "      <th>adenoma_12</th>\n",
       "      <td>0.025324</td>\n",
       "      <td>245.0</td>\n",
       "      <td>0.96353</td>\n",
       "      <td>48.178</td>\n",
       "      <td>0.16127</td>\n",
       "    </tr>\n",
       "    <tr>\n",
       "      <th>adenoma_13</th>\n",
       "      <td>0.035764</td>\n",
       "      <td>372.0</td>\n",
       "      <td>0.98178</td>\n",
       "      <td>111.580</td>\n",
       "      <td>0.20508</td>\n",
       "    </tr>\n",
       "    <tr>\n",
       "      <th>...</th>\n",
       "      <td>...</td>\n",
       "      <td>...</td>\n",
       "      <td>...</td>\n",
       "      <td>...</td>\n",
       "      <td>...</td>\n",
       "    </tr>\n",
       "    <tr>\n",
       "      <th>serrated_5</th>\n",
       "      <td>0.034913</td>\n",
       "      <td>292.0</td>\n",
       "      <td>0.97679</td>\n",
       "      <td>87.662</td>\n",
       "      <td>0.27799</td>\n",
       "    </tr>\n",
       "    <tr>\n",
       "      <th>serrated_6</th>\n",
       "      <td>0.036592</td>\n",
       "      <td>401.0</td>\n",
       "      <td>0.98770</td>\n",
       "      <td>123.790</td>\n",
       "      <td>0.27492</td>\n",
       "    </tr>\n",
       "    <tr>\n",
       "      <th>serrated_7</th>\n",
       "      <td>0.022274</td>\n",
       "      <td>514.0</td>\n",
       "      <td>0.84982</td>\n",
       "      <td>129.410</td>\n",
       "      <td>0.30094</td>\n",
       "    </tr>\n",
       "    <tr>\n",
       "      <th>serrated_8</th>\n",
       "      <td>0.030119</td>\n",
       "      <td>187.0</td>\n",
       "      <td>0.92142</td>\n",
       "      <td>76.131</td>\n",
       "      <td>0.30621</td>\n",
       "    </tr>\n",
       "    <tr>\n",
       "      <th>serrated_9</th>\n",
       "      <td>0.028394</td>\n",
       "      <td>417.0</td>\n",
       "      <td>0.97263</td>\n",
       "      <td>49.321</td>\n",
       "      <td>0.29530</td>\n",
       "    </tr>\n",
       "  </tbody>\n",
       "</table>\n",
       "<p>76 rows × 5 columns</p>\n",
       "</div>"
      ],
      "text/plain": [
       "                 113    173      475      489      603\n",
       "adenoma_1   0.037433  269.0  0.97006   92.307  0.23727\n",
       "adenoma_10  0.034214  218.0  0.95297  108.560  0.22117\n",
       "adenoma_11  0.033058  241.0  0.95286   82.827  0.32428\n",
       "adenoma_12  0.025324  245.0  0.96353   48.178  0.16127\n",
       "adenoma_13  0.035764  372.0  0.98178  111.580  0.20508\n",
       "...              ...    ...      ...      ...      ...\n",
       "serrated_5  0.034913  292.0  0.97679   87.662  0.27799\n",
       "serrated_6  0.036592  401.0  0.98770  123.790  0.27492\n",
       "serrated_7  0.022274  514.0  0.84982  129.410  0.30094\n",
       "serrated_8  0.030119  187.0  0.92142   76.131  0.30621\n",
       "serrated_9  0.028394  417.0  0.97263   49.321  0.29530\n",
       "\n",
       "[76 rows x 5 columns]"
      ]
     },
     "execution_count": 6,
     "metadata": {},
     "output_type": "execute_result"
    }
   ],
   "source": [
    "df"
   ]
  },
  {
   "cell_type": "code",
   "execution_count": 7,
   "id": "256c5079",
   "metadata": {},
   "outputs": [
    {
     "data": {
      "text/html": [
       "<div>\n",
       "<style scoped>\n",
       "    .dataframe tbody tr th:only-of-type {\n",
       "        vertical-align: middle;\n",
       "    }\n",
       "\n",
       "    .dataframe tbody tr th {\n",
       "        vertical-align: top;\n",
       "    }\n",
       "\n",
       "    .dataframe thead th {\n",
       "        text-align: right;\n",
       "    }\n",
       "</style>\n",
       "<table border=\"1\" class=\"dataframe\">\n",
       "  <thead>\n",
       "    <tr style=\"text-align: right;\">\n",
       "      <th>1</th>\n",
       "      <th>LESION</th>\n",
       "      <th>GROUND TRUTH</th>\n",
       "      <th>EXPERT 1</th>\n",
       "      <th>EXPERT 2</th>\n",
       "      <th>EXPERT 3</th>\n",
       "      <th>EXPERT 4</th>\n",
       "      <th>BEGINNER 1</th>\n",
       "      <th>BEGINNER 2</th>\n",
       "      <th>BEGINNER 3</th>\n",
       "    </tr>\n",
       "  </thead>\n",
       "  <tbody>\n",
       "    <tr>\n",
       "      <th>54</th>\n",
       "      <td>adenoma_1</td>\n",
       "      <td>adenoma</td>\n",
       "      <td>adenoma</td>\n",
       "      <td>adenoma</td>\n",
       "      <td>adenoma</td>\n",
       "      <td>adenoma</td>\n",
       "      <td>adenoma</td>\n",
       "      <td>adenoma</td>\n",
       "      <td>serrated</td>\n",
       "    </tr>\n",
       "    <tr>\n",
       "      <th>11</th>\n",
       "      <td>adenoma_10</td>\n",
       "      <td>adenoma</td>\n",
       "      <td>adenoma</td>\n",
       "      <td>adenoma</td>\n",
       "      <td>adenoma</td>\n",
       "      <td>adenoma</td>\n",
       "      <td>adenoma</td>\n",
       "      <td>adenoma</td>\n",
       "      <td>adenoma</td>\n",
       "    </tr>\n",
       "    <tr>\n",
       "      <th>12</th>\n",
       "      <td>adenoma_11</td>\n",
       "      <td>adenoma</td>\n",
       "      <td>adenoma</td>\n",
       "      <td>adenoma</td>\n",
       "      <td>hyperplasic</td>\n",
       "      <td>adenoma</td>\n",
       "      <td>adenoma</td>\n",
       "      <td>adenoma</td>\n",
       "      <td>adenoma</td>\n",
       "    </tr>\n",
       "    <tr>\n",
       "      <th>13</th>\n",
       "      <td>adenoma_12</td>\n",
       "      <td>adenoma</td>\n",
       "      <td>adenoma</td>\n",
       "      <td>adenoma</td>\n",
       "      <td>adenoma</td>\n",
       "      <td>adenoma</td>\n",
       "      <td>adenoma</td>\n",
       "      <td>adenoma</td>\n",
       "      <td>adenoma</td>\n",
       "    </tr>\n",
       "    <tr>\n",
       "      <th>14</th>\n",
       "      <td>adenoma_13</td>\n",
       "      <td>adenoma</td>\n",
       "      <td>adenoma</td>\n",
       "      <td>adenoma</td>\n",
       "      <td>adenoma</td>\n",
       "      <td>adenoma</td>\n",
       "      <td>adenoma</td>\n",
       "      <td>adenoma</td>\n",
       "      <td>adenoma</td>\n",
       "    </tr>\n",
       "    <tr>\n",
       "      <th>...</th>\n",
       "      <td>...</td>\n",
       "      <td>...</td>\n",
       "      <td>...</td>\n",
       "      <td>...</td>\n",
       "      <td>...</td>\n",
       "      <td>...</td>\n",
       "      <td>...</td>\n",
       "      <td>...</td>\n",
       "      <td>...</td>\n",
       "    </tr>\n",
       "    <tr>\n",
       "      <th>39</th>\n",
       "      <td>serrated_5</td>\n",
       "      <td>serrated</td>\n",
       "      <td>adenoma</td>\n",
       "      <td>serrated</td>\n",
       "      <td>serrated</td>\n",
       "      <td>adenoma</td>\n",
       "      <td>serrated</td>\n",
       "      <td>adenoma</td>\n",
       "      <td>adenoma</td>\n",
       "    </tr>\n",
       "    <tr>\n",
       "      <th>52</th>\n",
       "      <td>serrated_6</td>\n",
       "      <td>serrated</td>\n",
       "      <td>serrated</td>\n",
       "      <td>serrated</td>\n",
       "      <td>serrated</td>\n",
       "      <td>serrated</td>\n",
       "      <td>serrated</td>\n",
       "      <td>adenoma</td>\n",
       "      <td>hyperplasic</td>\n",
       "    </tr>\n",
       "    <tr>\n",
       "      <th>40</th>\n",
       "      <td>serrated_7</td>\n",
       "      <td>serrated</td>\n",
       "      <td>serrated</td>\n",
       "      <td>hyperplasic</td>\n",
       "      <td>serrated</td>\n",
       "      <td>serrated</td>\n",
       "      <td>hyperplasic</td>\n",
       "      <td>serrated</td>\n",
       "      <td>hyperplasic</td>\n",
       "    </tr>\n",
       "    <tr>\n",
       "      <th>2</th>\n",
       "      <td>serrated_8</td>\n",
       "      <td>serrated</td>\n",
       "      <td>serrated</td>\n",
       "      <td>adenoma</td>\n",
       "      <td>serrated</td>\n",
       "      <td>adenoma</td>\n",
       "      <td>serrated</td>\n",
       "      <td>adenoma</td>\n",
       "      <td>adenoma</td>\n",
       "    </tr>\n",
       "    <tr>\n",
       "      <th>57</th>\n",
       "      <td>serrated_9</td>\n",
       "      <td>serrated</td>\n",
       "      <td>serrated</td>\n",
       "      <td>serrated</td>\n",
       "      <td>serrated</td>\n",
       "      <td>serrated</td>\n",
       "      <td>serrated</td>\n",
       "      <td>adenoma</td>\n",
       "      <td>adenoma</td>\n",
       "    </tr>\n",
       "  </tbody>\n",
       "</table>\n",
       "<p>76 rows × 9 columns</p>\n",
       "</div>"
      ],
      "text/plain": [
       "1       LESION GROUND TRUTH  EXPERT 1     EXPERT 2     EXPERT 3  EXPERT 4  \\\n",
       "54   adenoma_1      adenoma   adenoma      adenoma      adenoma   adenoma   \n",
       "11  adenoma_10      adenoma   adenoma      adenoma      adenoma   adenoma   \n",
       "12  adenoma_11      adenoma   adenoma      adenoma  hyperplasic   adenoma   \n",
       "13  adenoma_12      adenoma   adenoma      adenoma      adenoma   adenoma   \n",
       "14  adenoma_13      adenoma   adenoma      adenoma      adenoma   adenoma   \n",
       "..         ...          ...       ...          ...          ...       ...   \n",
       "39  serrated_5     serrated   adenoma     serrated     serrated   adenoma   \n",
       "52  serrated_6     serrated  serrated     serrated     serrated  serrated   \n",
       "40  serrated_7     serrated  serrated  hyperplasic     serrated  serrated   \n",
       "2   serrated_8     serrated  serrated      adenoma     serrated   adenoma   \n",
       "57  serrated_9     serrated  serrated     serrated     serrated  serrated   \n",
       "\n",
       "1    BEGINNER 1 BEGINNER 2   BEGINNER 3  \n",
       "54      adenoma    adenoma     serrated  \n",
       "11      adenoma    adenoma      adenoma  \n",
       "12      adenoma    adenoma      adenoma  \n",
       "13      adenoma    adenoma      adenoma  \n",
       "14      adenoma    adenoma      adenoma  \n",
       "..          ...        ...          ...  \n",
       "39     serrated    adenoma      adenoma  \n",
       "52     serrated    adenoma  hyperplasic  \n",
       "40  hyperplasic   serrated  hyperplasic  \n",
       "2      serrated    adenoma      adenoma  \n",
       "57     serrated    adenoma      adenoma  \n",
       "\n",
       "[76 rows x 9 columns]"
      ]
     },
     "execution_count": 7,
     "metadata": {},
     "output_type": "execute_result"
    }
   ],
   "source": [
    "gt"
   ]
  },
  {
   "cell_type": "markdown",
   "id": "eb4457cb",
   "metadata": {},
   "source": [
    "# Random Forest for each annotator"
   ]
  },
  {
   "cell_type": "code",
   "execution_count": 101,
   "id": "b77f8f59",
   "metadata": {},
   "outputs": [],
   "source": [
    "from sklearn.model_selection import train_test_split\n",
    "from sklearn.ensemble import RandomForestClassifier\n",
    "from sklearn.metrics import confusion_matrix"
   ]
  },
  {
   "cell_type": "code",
   "execution_count": 228,
   "id": "864deaa9",
   "metadata": {},
   "outputs": [],
   "source": [
    "result = {'accuracy': {},\n",
    "          'probability': {}}\n",
    "for _ in range(50):\n",
    "\n",
    "    X_train, X_test, y_train_gt, y_test = train_test_split(df, gt['GROUND TRUTH'], stratify=gt['GROUND TRUTH'], test_size=0.3)\n",
    "\n",
    "    for annotator in gt.columns[1:]:\n",
    "\n",
    "        y_train = gt.loc[y_train_gt.index, annotator]\n",
    "\n",
    "        clf = RandomForestClassifier(max_depth=2)\n",
    "        clf.fit(X_train, y_train)\n",
    "        pred = clf.predict(X_test)\n",
    "        pred_proba = clf.predict_proba(X_test)\n",
    "        # print(clf.classes_)\n",
    "        cm = confusion_matrix(y_test, pred)\n",
    "\n",
    "        # Calculate overall accuracy\n",
    "        accuracy = cm.diagonal().sum() / cm.sum()\n",
    "        result['accuracy'][annotator] = accuracy\n",
    "        result['probability'][annotator] = pred_proba"
   ]
  },
  {
   "cell_type": "code",
   "execution_count": 229,
   "id": "3a1755c8",
   "metadata": {},
   "outputs": [
    {
     "data": {
      "text/plain": [
       "adenoma        28\n",
       "hyperplasic    15\n",
       "serrated       10\n",
       "Name: GROUND TRUTH, dtype: int64"
      ]
     },
     "execution_count": 229,
     "metadata": {},
     "output_type": "execute_result"
    }
   ],
   "source": [
    "pd.Series(y_train_gt).value_counts()"
   ]
  },
  {
   "cell_type": "code",
   "execution_count": 230,
   "id": "ce230a8c",
   "metadata": {},
   "outputs": [
    {
     "data": {
      "text/plain": [
       "adenoma        12\n",
       "hyperplasic     6\n",
       "serrated        5\n",
       "Name: GROUND TRUTH, dtype: int64"
      ]
     },
     "execution_count": 230,
     "metadata": {},
     "output_type": "execute_result"
    }
   ],
   "source": [
    "pd.Series(y_test).value_counts()"
   ]
  },
  {
   "cell_type": "markdown",
   "id": "059d6b1b",
   "metadata": {},
   "source": [
    "# Weights based on Majority Vote"
   ]
  },
  {
   "cell_type": "code",
   "execution_count": 231,
   "id": "34aeea2a",
   "metadata": {},
   "outputs": [],
   "source": [
    "labels = gt[gt.columns[2:]]\n",
    "majority_label = labels.mode(axis=1).iloc[:, 0]\n",
    "scores = [0] * labels.shape[1]\n",
    "\n",
    "for n, annotator in enumerate(labels.columns):\n",
    "    y_train = gt.loc[y_train_gt.index, annotator]\n",
    "    scores[n] = (labels[annotator] == majority_label).sum()\n",
    "scores /= sum(scores)"
   ]
  },
  {
   "cell_type": "markdown",
   "id": "e6566361",
   "metadata": {},
   "source": [
    "# Combine the prediction"
   ]
  },
  {
   "cell_type": "code",
   "execution_count": 232,
   "id": "0df87b63",
   "metadata": {},
   "outputs": [],
   "source": [
    "final_pred_prob = 0\n",
    "for n, annotator in enumerate(labels.columns):\n",
    "    final_pred_prob += result['probability'][annotator] * scores[n]\n",
    "\n",
    "final_pred = final_pred_prob.argmax(axis=1)\n",
    "final_pred = (clf.classes_)[final_pred]\n",
    "\n",
    "cm_final = confusion_matrix(y_test, final_pred)\n",
    "final_accuracy = cm.diagonal().sum() / cm.sum()"
   ]
  },
  {
   "cell_type": "code",
   "execution_count": 233,
   "id": "46498808",
   "metadata": {},
   "outputs": [
    {
     "data": {
      "text/plain": [
       "{'GROUND TRUTH': 0.6086956521739131,\n",
       " 'EXPERT 1': 0.5217391304347826,\n",
       " 'EXPERT 2': 0.6086956521739131,\n",
       " 'EXPERT 3': 0.5217391304347826,\n",
       " 'EXPERT 4': 0.6086956521739131,\n",
       " 'BEGINNER 1': 0.5217391304347826,\n",
       " 'BEGINNER 2': 0.5217391304347826,\n",
       " 'BEGINNER 3': 0.5652173913043478}"
      ]
     },
     "execution_count": 233,
     "metadata": {},
     "output_type": "execute_result"
    }
   ],
   "source": [
    "result['accuracy']"
   ]
  },
  {
   "cell_type": "code",
   "execution_count": 234,
   "id": "5b017248",
   "metadata": {},
   "outputs": [
    {
     "data": {
      "text/plain": [
       "0.5652173913043478"
      ]
     },
     "execution_count": 234,
     "metadata": {},
     "output_type": "execute_result"
    }
   ],
   "source": [
    "final_accuracy"
   ]
  }
 ],
 "metadata": {
  "kernelspec": {
   "display_name": "Python 3 (ipykernel)",
   "language": "python",
   "name": "python3"
  },
  "language_info": {
   "codemirror_mode": {
    "name": "ipython",
    "version": 3
   },
   "file_extension": ".py",
   "mimetype": "text/x-python",
   "name": "python",
   "nbconvert_exporter": "python",
   "pygments_lexer": "ipython3",
   "version": "3.9.12"
  }
 },
 "nbformat": 4,
 "nbformat_minor": 5
}
