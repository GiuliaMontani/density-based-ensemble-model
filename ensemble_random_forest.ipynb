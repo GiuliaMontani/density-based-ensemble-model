{
 "cells": [
  {
   "cell_type": "code",
   "execution_count": 1,
   "id": "c5359866",
   "metadata": {},
   "outputs": [],
   "source": [
    "import pandas as pd\n",
    "import numpy as np"
   ]
  },
  {
   "cell_type": "markdown",
   "id": "713a9fc6",
   "metadata": {},
   "source": [
    "# Import data"
   ]
  },
  {
   "cell_type": "code",
   "execution_count": 2,
   "id": "afae3c34",
   "metadata": {},
   "outputs": [],
   "source": [
    "data = pd.read_csv(\"data/data.txt\", sep = ',')\n",
    "gt = pd.read_excel(\"data/ground_truth.xlsx\")"
   ]
  },
  {
   "cell_type": "code",
   "execution_count": 3,
   "id": "fb8310bd",
   "metadata": {},
   "outputs": [],
   "source": [
    "features = [113, 173, 475, 489, 603]\n",
    "col = [int(i) for i in list(np.linspace(0, 150, 76))]"
   ]
  },
  {
   "cell_type": "code",
   "execution_count": 4,
   "id": "15e216b7",
   "metadata": {},
   "outputs": [],
   "source": [
    "df = data.iloc[features][data.columns[col]].T\n",
    "df = df.sort_index()"
   ]
  },
  {
   "cell_type": "code",
   "execution_count": 5,
   "id": "561a1ee4",
   "metadata": {},
   "outputs": [],
   "source": [
    "gt.columns = gt.iloc[1]\n",
    "gt = gt.iloc[2:78,1:10]\n",
    "gt = gt.sort_values(\"LESION\")"
   ]
  },
  {
   "cell_type": "code",
   "execution_count": 6,
   "id": "1ba8bb36",
   "metadata": {},
   "outputs": [
    {
     "data": {
      "text/html": [
       "<div>\n",
       "<style scoped>\n",
       "    .dataframe tbody tr th:only-of-type {\n",
       "        vertical-align: middle;\n",
       "    }\n",
       "\n",
       "    .dataframe tbody tr th {\n",
       "        vertical-align: top;\n",
       "    }\n",
       "\n",
       "    .dataframe thead th {\n",
       "        text-align: right;\n",
       "    }\n",
       "</style>\n",
       "<table border=\"1\" class=\"dataframe\">\n",
       "  <thead>\n",
       "    <tr style=\"text-align: right;\">\n",
       "      <th></th>\n",
       "      <th>113</th>\n",
       "      <th>173</th>\n",
       "      <th>475</th>\n",
       "      <th>489</th>\n",
       "      <th>603</th>\n",
       "    </tr>\n",
       "  </thead>\n",
       "  <tbody>\n",
       "    <tr>\n",
       "      <th>adenoma_1</th>\n",
       "      <td>0.037433</td>\n",
       "      <td>269.0</td>\n",
       "      <td>0.97006</td>\n",
       "      <td>92.307</td>\n",
       "      <td>0.23727</td>\n",
       "    </tr>\n",
       "    <tr>\n",
       "      <th>adenoma_10</th>\n",
       "      <td>0.034214</td>\n",
       "      <td>218.0</td>\n",
       "      <td>0.95297</td>\n",
       "      <td>108.560</td>\n",
       "      <td>0.22117</td>\n",
       "    </tr>\n",
       "    <tr>\n",
       "      <th>adenoma_11</th>\n",
       "      <td>0.033058</td>\n",
       "      <td>241.0</td>\n",
       "      <td>0.95286</td>\n",
       "      <td>82.827</td>\n",
       "      <td>0.32428</td>\n",
       "    </tr>\n",
       "    <tr>\n",
       "      <th>adenoma_12</th>\n",
       "      <td>0.025324</td>\n",
       "      <td>245.0</td>\n",
       "      <td>0.96353</td>\n",
       "      <td>48.178</td>\n",
       "      <td>0.16127</td>\n",
       "    </tr>\n",
       "    <tr>\n",
       "      <th>adenoma_13</th>\n",
       "      <td>0.035764</td>\n",
       "      <td>372.0</td>\n",
       "      <td>0.98178</td>\n",
       "      <td>111.580</td>\n",
       "      <td>0.20508</td>\n",
       "    </tr>\n",
       "    <tr>\n",
       "      <th>...</th>\n",
       "      <td>...</td>\n",
       "      <td>...</td>\n",
       "      <td>...</td>\n",
       "      <td>...</td>\n",
       "      <td>...</td>\n",
       "    </tr>\n",
       "    <tr>\n",
       "      <th>serrated_5</th>\n",
       "      <td>0.034913</td>\n",
       "      <td>292.0</td>\n",
       "      <td>0.97679</td>\n",
       "      <td>87.662</td>\n",
       "      <td>0.27799</td>\n",
       "    </tr>\n",
       "    <tr>\n",
       "      <th>serrated_6</th>\n",
       "      <td>0.036592</td>\n",
       "      <td>401.0</td>\n",
       "      <td>0.98770</td>\n",
       "      <td>123.790</td>\n",
       "      <td>0.27492</td>\n",
       "    </tr>\n",
       "    <tr>\n",
       "      <th>serrated_7</th>\n",
       "      <td>0.022274</td>\n",
       "      <td>514.0</td>\n",
       "      <td>0.84982</td>\n",
       "      <td>129.410</td>\n",
       "      <td>0.30094</td>\n",
       "    </tr>\n",
       "    <tr>\n",
       "      <th>serrated_8</th>\n",
       "      <td>0.030119</td>\n",
       "      <td>187.0</td>\n",
       "      <td>0.92142</td>\n",
       "      <td>76.131</td>\n",
       "      <td>0.30621</td>\n",
       "    </tr>\n",
       "    <tr>\n",
       "      <th>serrated_9</th>\n",
       "      <td>0.028394</td>\n",
       "      <td>417.0</td>\n",
       "      <td>0.97263</td>\n",
       "      <td>49.321</td>\n",
       "      <td>0.29530</td>\n",
       "    </tr>\n",
       "  </tbody>\n",
       "</table>\n",
       "<p>76 rows × 5 columns</p>\n",
       "</div>"
      ],
      "text/plain": [
       "                 113    173      475      489      603\n",
       "adenoma_1   0.037433  269.0  0.97006   92.307  0.23727\n",
       "adenoma_10  0.034214  218.0  0.95297  108.560  0.22117\n",
       "adenoma_11  0.033058  241.0  0.95286   82.827  0.32428\n",
       "adenoma_12  0.025324  245.0  0.96353   48.178  0.16127\n",
       "adenoma_13  0.035764  372.0  0.98178  111.580  0.20508\n",
       "...              ...    ...      ...      ...      ...\n",
       "serrated_5  0.034913  292.0  0.97679   87.662  0.27799\n",
       "serrated_6  0.036592  401.0  0.98770  123.790  0.27492\n",
       "serrated_7  0.022274  514.0  0.84982  129.410  0.30094\n",
       "serrated_8  0.030119  187.0  0.92142   76.131  0.30621\n",
       "serrated_9  0.028394  417.0  0.97263   49.321  0.29530\n",
       "\n",
       "[76 rows x 5 columns]"
      ]
     },
     "execution_count": 6,
     "metadata": {},
     "output_type": "execute_result"
    }
   ],
   "source": [
    "df"
   ]
  },
  {
   "cell_type": "code",
   "execution_count": 7,
   "id": "256c5079",
   "metadata": {},
   "outputs": [
    {
     "data": {
      "text/html": [
       "<div>\n",
       "<style scoped>\n",
       "    .dataframe tbody tr th:only-of-type {\n",
       "        vertical-align: middle;\n",
       "    }\n",
       "\n",
       "    .dataframe tbody tr th {\n",
       "        vertical-align: top;\n",
       "    }\n",
       "\n",
       "    .dataframe thead th {\n",
       "        text-align: right;\n",
       "    }\n",
       "</style>\n",
       "<table border=\"1\" class=\"dataframe\">\n",
       "  <thead>\n",
       "    <tr style=\"text-align: right;\">\n",
       "      <th>1</th>\n",
       "      <th>LESION</th>\n",
       "      <th>GROUND TRUTH</th>\n",
       "      <th>EXPERT 1</th>\n",
       "      <th>EXPERT 2</th>\n",
       "      <th>EXPERT 3</th>\n",
       "      <th>EXPERT 4</th>\n",
       "      <th>BEGINNER 1</th>\n",
       "      <th>BEGINNER 2</th>\n",
       "      <th>BEGINNER 3</th>\n",
       "    </tr>\n",
       "  </thead>\n",
       "  <tbody>\n",
       "    <tr>\n",
       "      <th>54</th>\n",
       "      <td>adenoma_1</td>\n",
       "      <td>adenoma</td>\n",
       "      <td>adenoma</td>\n",
       "      <td>adenoma</td>\n",
       "      <td>adenoma</td>\n",
       "      <td>adenoma</td>\n",
       "      <td>adenoma</td>\n",
       "      <td>adenoma</td>\n",
       "      <td>serrated</td>\n",
       "    </tr>\n",
       "    <tr>\n",
       "      <th>11</th>\n",
       "      <td>adenoma_10</td>\n",
       "      <td>adenoma</td>\n",
       "      <td>adenoma</td>\n",
       "      <td>adenoma</td>\n",
       "      <td>adenoma</td>\n",
       "      <td>adenoma</td>\n",
       "      <td>adenoma</td>\n",
       "      <td>adenoma</td>\n",
       "      <td>adenoma</td>\n",
       "    </tr>\n",
       "    <tr>\n",
       "      <th>12</th>\n",
       "      <td>adenoma_11</td>\n",
       "      <td>adenoma</td>\n",
       "      <td>adenoma</td>\n",
       "      <td>adenoma</td>\n",
       "      <td>hyperplasic</td>\n",
       "      <td>adenoma</td>\n",
       "      <td>adenoma</td>\n",
       "      <td>adenoma</td>\n",
       "      <td>adenoma</td>\n",
       "    </tr>\n",
       "    <tr>\n",
       "      <th>13</th>\n",
       "      <td>adenoma_12</td>\n",
       "      <td>adenoma</td>\n",
       "      <td>adenoma</td>\n",
       "      <td>adenoma</td>\n",
       "      <td>adenoma</td>\n",
       "      <td>adenoma</td>\n",
       "      <td>adenoma</td>\n",
       "      <td>adenoma</td>\n",
       "      <td>adenoma</td>\n",
       "    </tr>\n",
       "    <tr>\n",
       "      <th>14</th>\n",
       "      <td>adenoma_13</td>\n",
       "      <td>adenoma</td>\n",
       "      <td>adenoma</td>\n",
       "      <td>adenoma</td>\n",
       "      <td>adenoma</td>\n",
       "      <td>adenoma</td>\n",
       "      <td>adenoma</td>\n",
       "      <td>adenoma</td>\n",
       "      <td>adenoma</td>\n",
       "    </tr>\n",
       "    <tr>\n",
       "      <th>...</th>\n",
       "      <td>...</td>\n",
       "      <td>...</td>\n",
       "      <td>...</td>\n",
       "      <td>...</td>\n",
       "      <td>...</td>\n",
       "      <td>...</td>\n",
       "      <td>...</td>\n",
       "      <td>...</td>\n",
       "      <td>...</td>\n",
       "    </tr>\n",
       "    <tr>\n",
       "      <th>39</th>\n",
       "      <td>serrated_5</td>\n",
       "      <td>serrated</td>\n",
       "      <td>adenoma</td>\n",
       "      <td>serrated</td>\n",
       "      <td>serrated</td>\n",
       "      <td>adenoma</td>\n",
       "      <td>serrated</td>\n",
       "      <td>adenoma</td>\n",
       "      <td>adenoma</td>\n",
       "    </tr>\n",
       "    <tr>\n",
       "      <th>52</th>\n",
       "      <td>serrated_6</td>\n",
       "      <td>serrated</td>\n",
       "      <td>serrated</td>\n",
       "      <td>serrated</td>\n",
       "      <td>serrated</td>\n",
       "      <td>serrated</td>\n",
       "      <td>serrated</td>\n",
       "      <td>adenoma</td>\n",
       "      <td>hyperplasic</td>\n",
       "    </tr>\n",
       "    <tr>\n",
       "      <th>40</th>\n",
       "      <td>serrated_7</td>\n",
       "      <td>serrated</td>\n",
       "      <td>serrated</td>\n",
       "      <td>hyperplasic</td>\n",
       "      <td>serrated</td>\n",
       "      <td>serrated</td>\n",
       "      <td>hyperplasic</td>\n",
       "      <td>serrated</td>\n",
       "      <td>hyperplasic</td>\n",
       "    </tr>\n",
       "    <tr>\n",
       "      <th>2</th>\n",
       "      <td>serrated_8</td>\n",
       "      <td>serrated</td>\n",
       "      <td>serrated</td>\n",
       "      <td>adenoma</td>\n",
       "      <td>serrated</td>\n",
       "      <td>adenoma</td>\n",
       "      <td>serrated</td>\n",
       "      <td>adenoma</td>\n",
       "      <td>adenoma</td>\n",
       "    </tr>\n",
       "    <tr>\n",
       "      <th>57</th>\n",
       "      <td>serrated_9</td>\n",
       "      <td>serrated</td>\n",
       "      <td>serrated</td>\n",
       "      <td>serrated</td>\n",
       "      <td>serrated</td>\n",
       "      <td>serrated</td>\n",
       "      <td>serrated</td>\n",
       "      <td>adenoma</td>\n",
       "      <td>adenoma</td>\n",
       "    </tr>\n",
       "  </tbody>\n",
       "</table>\n",
       "<p>76 rows × 9 columns</p>\n",
       "</div>"
      ],
      "text/plain": [
       "1       LESION GROUND TRUTH  EXPERT 1     EXPERT 2     EXPERT 3  EXPERT 4  \\\n",
       "54   adenoma_1      adenoma   adenoma      adenoma      adenoma   adenoma   \n",
       "11  adenoma_10      adenoma   adenoma      adenoma      adenoma   adenoma   \n",
       "12  adenoma_11      adenoma   adenoma      adenoma  hyperplasic   adenoma   \n",
       "13  adenoma_12      adenoma   adenoma      adenoma      adenoma   adenoma   \n",
       "14  adenoma_13      adenoma   adenoma      adenoma      adenoma   adenoma   \n",
       "..         ...          ...       ...          ...          ...       ...   \n",
       "39  serrated_5     serrated   adenoma     serrated     serrated   adenoma   \n",
       "52  serrated_6     serrated  serrated     serrated     serrated  serrated   \n",
       "40  serrated_7     serrated  serrated  hyperplasic     serrated  serrated   \n",
       "2   serrated_8     serrated  serrated      adenoma     serrated   adenoma   \n",
       "57  serrated_9     serrated  serrated     serrated     serrated  serrated   \n",
       "\n",
       "1    BEGINNER 1 BEGINNER 2   BEGINNER 3  \n",
       "54      adenoma    adenoma     serrated  \n",
       "11      adenoma    adenoma      adenoma  \n",
       "12      adenoma    adenoma      adenoma  \n",
       "13      adenoma    adenoma      adenoma  \n",
       "14      adenoma    adenoma      adenoma  \n",
       "..          ...        ...          ...  \n",
       "39     serrated    adenoma      adenoma  \n",
       "52     serrated    adenoma  hyperplasic  \n",
       "40  hyperplasic   serrated  hyperplasic  \n",
       "2      serrated    adenoma      adenoma  \n",
       "57     serrated    adenoma      adenoma  \n",
       "\n",
       "[76 rows x 9 columns]"
      ]
     },
     "execution_count": 7,
     "metadata": {},
     "output_type": "execute_result"
    }
   ],
   "source": [
    "gt"
   ]
  },
  {
   "cell_type": "markdown",
   "id": "eb4457cb",
   "metadata": {},
   "source": [
    "# Random Forest for each annotator"
   ]
  },
  {
   "cell_type": "code",
   "execution_count": 8,
   "id": "b77f8f59",
   "metadata": {},
   "outputs": [],
   "source": [
    "from sklearn.model_selection import train_test_split\n",
    "from sklearn.ensemble import RandomForestClassifier\n",
    "from sklearn.metrics import confusion_matrix"
   ]
  },
  {
   "cell_type": "code",
   "execution_count": 13,
   "id": "864deaa9",
   "metadata": {},
   "outputs": [],
   "source": [
    "result = {'accuracy': {},\n",
    "          'probability': {}}\n",
    "for _ in range(50):\n",
    "\n",
    "    X_train, X_test, y_train_gt, y_test = train_test_split(df, gt['GROUND TRUTH'], stratify=gt['GROUND TRUTH'], test_size=0.3)\n",
    "\n",
    "    for annotator in gt.columns[1:]:\n",
    "        if len(result['accuracy'].keys()) < len(gt.columns[1:]):\n",
    "            result['accuracy'][annotator] = []\n",
    "            result['probability'][annotator] = []\n",
    "\n",
    "        y_train = gt.loc[y_train_gt.index, annotator]\n",
    "\n",
    "        clf = RandomForestClassifier(max_depth=2)\n",
    "        clf.fit(X_train, y_train)\n",
    "        pred = clf.predict(X_test)\n",
    "        pred_proba = clf.predict_proba(X_test)\n",
    "        # print(clf.classes_)\n",
    "        cm = confusion_matrix(y_test, pred)\n",
    "\n",
    "        # Calculate overall accuracy\n",
    "        accuracy = cm.diagonal().sum() / cm.sum()\n",
    "        result['accuracy'][annotator].append(accuracy)\n",
    "        result['probability'][annotator].append(pred_proba)"
   ]
  },
  {
   "cell_type": "code",
   "execution_count": 14,
   "id": "3a1755c8",
   "metadata": {},
   "outputs": [
    {
     "data": {
      "text/plain": [
       "adenoma        28\n",
       "hyperplasic    15\n",
       "serrated       10\n",
       "Name: GROUND TRUTH, dtype: int64"
      ]
     },
     "execution_count": 14,
     "metadata": {},
     "output_type": "execute_result"
    }
   ],
   "source": [
    "pd.Series(y_train_gt).value_counts()"
   ]
  },
  {
   "cell_type": "code",
   "execution_count": 15,
   "id": "ce230a8c",
   "metadata": {},
   "outputs": [
    {
     "data": {
      "text/plain": [
       "adenoma        12\n",
       "hyperplasic     6\n",
       "serrated        5\n",
       "Name: GROUND TRUTH, dtype: int64"
      ]
     },
     "execution_count": 15,
     "metadata": {},
     "output_type": "execute_result"
    }
   ],
   "source": [
    "pd.Series(y_test).value_counts()"
   ]
  },
  {
   "cell_type": "markdown",
   "id": "059d6b1b",
   "metadata": {},
   "source": [
    "# Weights based on Majority Vote"
   ]
  },
  {
   "cell_type": "code",
   "execution_count": 16,
   "id": "34aeea2a",
   "metadata": {},
   "outputs": [],
   "source": [
    "labels = gt[gt.columns[2:]]\n",
    "majority_label = labels.mode(axis=1).iloc[:, 0]\n",
    "scores = [0] * labels.shape[1]\n",
    "\n",
    "for n, annotator in enumerate(labels.columns):\n",
    "    y_train = gt.loc[y_train_gt.index, annotator]\n",
    "    scores[n] = (labels[annotator] == majority_label).sum()\n",
    "scores /= sum(scores)"
   ]
  },
  {
   "cell_type": "markdown",
   "id": "e6566361",
   "metadata": {},
   "source": [
    "# Combine the prediction"
   ]
  },
  {
   "cell_type": "code",
   "execution_count": 59,
   "id": "0df87b63",
   "metadata": {},
   "outputs": [
    {
     "ename": "TypeError",
     "evalue": "'int' object is not subscriptable",
     "output_type": "error",
     "traceback": [
      "\u001b[1;31m---------------------------------------------------------------------------\u001b[0m",
      "\u001b[1;31mTypeError\u001b[0m                                 Traceback (most recent call last)",
      "Input \u001b[1;32mIn [59]\u001b[0m, in \u001b[0;36m<cell line: 11>\u001b[1;34m()\u001b[0m\n\u001b[0;32m     11\u001b[0m \u001b[38;5;28;01mfor\u001b[39;00m s \u001b[38;5;129;01min\u001b[39;00m \u001b[38;5;28mrange\u001b[39m(\u001b[38;5;241m50\u001b[39m):\n\u001b[0;32m     12\u001b[0m     cm_final \u001b[38;5;241m=\u001b[39m confusion_matrix(y_test, final_pred[s])\n\u001b[1;32m---> 13\u001b[0m     final_accuracy[s] \u001b[38;5;241m+\u001b[39m\u001b[38;5;241m=\u001b[39m cm\u001b[38;5;241m.\u001b[39mdiagonal()\u001b[38;5;241m.\u001b[39msum() \u001b[38;5;241m/\u001b[39m cm\u001b[38;5;241m.\u001b[39msum()\n\u001b[0;32m     14\u001b[0m final_accuracy \u001b[38;5;241m/\u001b[39m\u001b[38;5;241m=\u001b[39m \u001b[38;5;241m50\u001b[39m\n",
      "\u001b[1;31mTypeError\u001b[0m: 'int' object is not subscriptable"
     ]
    }
   ],
   "source": [
    "final_pred_prob = [0] * 50\n",
    "final_pred = [0] * 50\n",
    "for s in range(50):\n",
    "    for n, annotator in enumerate(labels.columns):\n",
    "        final_pred_prob[s] += result['probability'][annotator][s] * scores[n]\n",
    "\n",
    "    final_pred[s] = final_pred_prob[s].argmax(axis=1)\n",
    "    final_pred[s] = (clf.classes_)[final_pred[s]]\n",
    "    \n",
    "final_accuracy = 0\n",
    "for s in range(50):\n",
    "    cm_final = confusion_matrix(y_test, final_pred[s])\n",
    "    final_accuracy[s] += cm.diagonal().sum() / cm.sum()\n",
    "final_accuracy /= 50"
   ]
  },
  {
   "cell_type": "code",
   "execution_count": 52,
   "id": "46498808",
   "metadata": {},
   "outputs": [
    {
     "data": {
      "text/plain": [
       "{'GROUND TRUTH': 0.577391304347826,\n",
       " 'EXPERT 1': 0.5599999999999999,\n",
       " 'EXPERT 2': 0.5721739130434782,\n",
       " 'EXPERT 3': 0.568695652173913,\n",
       " 'EXPERT 4': 0.606086956521739,\n",
       " 'BEGINNER 1': 0.48782608695652163,\n",
       " 'BEGINNER 2': 0.5173913043478261,\n",
       " 'BEGINNER 3': 0.5782608695652174}"
      ]
     },
     "execution_count": 52,
     "metadata": {},
     "output_type": "execute_result"
    }
   ],
   "source": [
    "mean_accuracy_single_model = {key: np.mean(values) for key, values in result['accuracy'].items()}\n",
    "mean_accuracy_single_model"
   ]
  },
  {
   "cell_type": "code",
   "execution_count": 53,
   "id": "5b017248",
   "metadata": {},
   "outputs": [
    {
     "data": {
      "text/plain": [
       "0.6521739130434776"
      ]
     },
     "execution_count": 53,
     "metadata": {},
     "output_type": "execute_result"
    }
   ],
   "source": [
    "final_accuracy"
   ]
  },
  {
   "cell_type": "code",
   "execution_count": 31,
   "id": "f7b26328",
   "metadata": {},
   "outputs": [
    {
     "ename": "AttributeError",
     "evalue": "'list' object has no attribute 'shape'",
     "output_type": "error",
     "traceback": [
      "\u001b[1;31m---------------------------------------------------------------------------\u001b[0m",
      "\u001b[1;31mAttributeError\u001b[0m                            Traceback (most recent call last)",
      "Input \u001b[1;32mIn [31]\u001b[0m, in \u001b[0;36m<cell line: 1>\u001b[1;34m()\u001b[0m\n\u001b[1;32m----> 1\u001b[0m \u001b[43mfinal_pred_prob\u001b[49m\u001b[38;5;241;43m.\u001b[39;49m\u001b[43mshape\u001b[49m\n",
      "\u001b[1;31mAttributeError\u001b[0m: 'list' object has no attribute 'shape'"
     ]
    }
   ],
   "source": [
    "final_pred_prob"
   ]
  },
  {
   "cell_type": "code",
   "execution_count": 23,
   "id": "5caad4bc",
   "metadata": {},
   "outputs": [
    {
     "data": {
      "text/plain": [
       "array([[0.62831845, 0.14646844, 0.22521312],\n",
       "       [0.56833124, 0.13186889, 0.29979988],\n",
       "       [0.49170373, 0.24928871, 0.25900756],\n",
       "       [0.44770505, 0.19281823, 0.35947671],\n",
       "       [0.44272695, 0.4031832 , 0.15408984],\n",
       "       [0.4767194 , 0.11158416, 0.41169644],\n",
       "       [0.39534642, 0.43481397, 0.16983961],\n",
       "       [0.61399036, 0.14895828, 0.23705136],\n",
       "       [0.33357889, 0.39541352, 0.27100759],\n",
       "       [0.57931902, 0.19985858, 0.2208224 ],\n",
       "       [0.5685916 , 0.20370907, 0.22769933],\n",
       "       [0.59841154, 0.24863935, 0.1529491 ],\n",
       "       [0.62152496, 0.09444698, 0.28402806],\n",
       "       [0.67133056, 0.10139969, 0.22726975],\n",
       "       [0.58330176, 0.17647097, 0.24022727],\n",
       "       [0.57650491, 0.09547593, 0.32801916],\n",
       "       [0.65426406, 0.13782603, 0.20790991],\n",
       "       [0.55696966, 0.15337859, 0.28965175],\n",
       "       [0.66828384, 0.14991439, 0.18180177],\n",
       "       [0.42586157, 0.39046548, 0.18367294],\n",
       "       [0.43963409, 0.3351478 , 0.2252181 ],\n",
       "       [0.62361887, 0.08783531, 0.28854582],\n",
       "       [0.59972349, 0.25429695, 0.14597956]])"
      ]
     },
     "execution_count": 23,
     "metadata": {},
     "output_type": "execute_result"
    }
   ],
   "source": [
    "result['probability']['EXPERT 1'][0]"
   ]
  },
  {
   "cell_type": "code",
   "execution_count": null,
   "id": "5677b162",
   "metadata": {},
   "outputs": [],
   "source": []
  }
 ],
 "metadata": {
  "kernelspec": {
   "display_name": "Python 3 (ipykernel)",
   "language": "python",
   "name": "python3"
  },
  "language_info": {
   "codemirror_mode": {
    "name": "ipython",
    "version": 3
   },
   "file_extension": ".py",
   "mimetype": "text/x-python",
   "name": "python",
   "nbconvert_exporter": "python",
   "pygments_lexer": "ipython3",
   "version": "3.9.12"
  }
 },
 "nbformat": 4,
 "nbformat_minor": 5
}
